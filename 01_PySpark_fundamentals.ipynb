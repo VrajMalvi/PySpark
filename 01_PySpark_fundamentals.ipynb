{
  "cells": [
    {
      "cell_type": "code",
      "execution_count": 1,
      "metadata": {
        "colab": {
          "base_uri": "https://localhost:8080/"
        },
        "id": "l4_C1befsLoi",
        "outputId": "6061d880-90ff-420f-cfea-425c37205e50"
      },
      "outputs": [
        {
          "name": "stdout",
          "output_type": "stream",
          "text": [
            "Collecting pyspark\n",
            "  Downloading pyspark-3.5.0.tar.gz (316.9 MB)\n",
            "\u001b[2K     \u001b[90m━━━━━━━━━━━━━━━━━━━━━━━━━━━━━━━━━━━━━━━━\u001b[0m \u001b[32m316.9/316.9 MB\u001b[0m \u001b[31m3.5 MB/s\u001b[0m eta \u001b[36m0:00:00\u001b[0m\n",
            "\u001b[?25h  Preparing metadata (setup.py) ... \u001b[?25l\u001b[?25hdone\n",
            "Requirement already satisfied: py4j==0.10.9.7 in /usr/local/lib/python3.10/dist-packages (from pyspark) (0.10.9.7)\n",
            "Building wheels for collected packages: pyspark\n",
            "  Building wheel for pyspark (setup.py) ... \u001b[?25l\u001b[?25hdone\n",
            "  Created wheel for pyspark: filename=pyspark-3.5.0-py2.py3-none-any.whl size=317425344 sha256=80efe6d5688c50458f12ea2176a6e5142ca07eef64bc4d8fa5153c03a6cce99d\n",
            "  Stored in directory: /root/.cache/pip/wheels/41/4e/10/c2cf2467f71c678cfc8a6b9ac9241e5e44a01940da8fbb17fc\n",
            "Successfully built pyspark\n",
            "Installing collected packages: pyspark\n",
            "Successfully installed pyspark-3.5.0\n"
          ]
        }
      ],
      "source": [
        "# !pip install pyspark"
      ]
    },
    {
      "cell_type": "code",
      "execution_count": 3,
      "metadata": {
        "id": "GpP_oASBsaVR"
      },
      "outputs": [],
      "source": [
        "import pyspark\n",
        "import pandas as pd"
      ]
    },
    {
      "cell_type": "code",
      "execution_count": 4,
      "metadata": {
        "colab": {
          "base_uri": "https://localhost:8080/",
          "height": 444
        },
        "id": "N3drgCVCskKW",
        "outputId": "6e3ea697-93d9-4218-b001-070e1a1ffb29"
      },
      "outputs": [
        {
          "data": {
            "text/html": [
              "\n",
              "  <div id=\"df-95e448a6-9d60-4cc1-9e8c-a8022e55feeb\" class=\"colab-df-container\">\n",
              "    <div>\n",
              "<style scoped>\n",
              "    .dataframe tbody tr th:only-of-type {\n",
              "        vertical-align: middle;\n",
              "    }\n",
              "\n",
              "    .dataframe tbody tr th {\n",
              "        vertical-align: top;\n",
              "    }\n",
              "\n",
              "    .dataframe thead th {\n",
              "        text-align: right;\n",
              "    }\n",
              "</style>\n",
              "<table border=\"1\" class=\"dataframe\">\n",
              "  <thead>\n",
              "    <tr style=\"text-align: right;\">\n",
              "      <th></th>\n",
              "      <th>pclass</th>\n",
              "      <th>survived</th>\n",
              "      <th>sex</th>\n",
              "      <th>age</th>\n",
              "      <th>sibsp</th>\n",
              "      <th>parch</th>\n",
              "      <th>fare</th>\n",
              "      <th>cabin</th>\n",
              "      <th>embarked</th>\n",
              "      <th>title</th>\n",
              "    </tr>\n",
              "  </thead>\n",
              "  <tbody>\n",
              "    <tr>\n",
              "      <th>0</th>\n",
              "      <td>1</td>\n",
              "      <td>1</td>\n",
              "      <td>female</td>\n",
              "      <td>29.0000</td>\n",
              "      <td>0</td>\n",
              "      <td>0</td>\n",
              "      <td>211.3375</td>\n",
              "      <td>B5</td>\n",
              "      <td>S</td>\n",
              "      <td>Miss</td>\n",
              "    </tr>\n",
              "    <tr>\n",
              "      <th>1</th>\n",
              "      <td>1</td>\n",
              "      <td>1</td>\n",
              "      <td>male</td>\n",
              "      <td>0.9167</td>\n",
              "      <td>1</td>\n",
              "      <td>2</td>\n",
              "      <td>151.5500</td>\n",
              "      <td>C22</td>\n",
              "      <td>S</td>\n",
              "      <td>Master</td>\n",
              "    </tr>\n",
              "    <tr>\n",
              "      <th>2</th>\n",
              "      <td>1</td>\n",
              "      <td>0</td>\n",
              "      <td>female</td>\n",
              "      <td>2.0000</td>\n",
              "      <td>1</td>\n",
              "      <td>2</td>\n",
              "      <td>151.5500</td>\n",
              "      <td>C22</td>\n",
              "      <td>S</td>\n",
              "      <td>Miss</td>\n",
              "    </tr>\n",
              "    <tr>\n",
              "      <th>3</th>\n",
              "      <td>1</td>\n",
              "      <td>0</td>\n",
              "      <td>male</td>\n",
              "      <td>30.0000</td>\n",
              "      <td>1</td>\n",
              "      <td>2</td>\n",
              "      <td>151.5500</td>\n",
              "      <td>C22</td>\n",
              "      <td>S</td>\n",
              "      <td>Mr</td>\n",
              "    </tr>\n",
              "    <tr>\n",
              "      <th>4</th>\n",
              "      <td>1</td>\n",
              "      <td>0</td>\n",
              "      <td>female</td>\n",
              "      <td>25.0000</td>\n",
              "      <td>1</td>\n",
              "      <td>2</td>\n",
              "      <td>151.5500</td>\n",
              "      <td>C22</td>\n",
              "      <td>S</td>\n",
              "      <td>Mrs</td>\n",
              "    </tr>\n",
              "    <tr>\n",
              "      <th>...</th>\n",
              "      <td>...</td>\n",
              "      <td>...</td>\n",
              "      <td>...</td>\n",
              "      <td>...</td>\n",
              "      <td>...</td>\n",
              "      <td>...</td>\n",
              "      <td>...</td>\n",
              "      <td>...</td>\n",
              "      <td>...</td>\n",
              "      <td>...</td>\n",
              "    </tr>\n",
              "    <tr>\n",
              "      <th>1304</th>\n",
              "      <td>3</td>\n",
              "      <td>0</td>\n",
              "      <td>female</td>\n",
              "      <td>14.5000</td>\n",
              "      <td>1</td>\n",
              "      <td>0</td>\n",
              "      <td>14.4542</td>\n",
              "      <td>NaN</td>\n",
              "      <td>C</td>\n",
              "      <td>Miss</td>\n",
              "    </tr>\n",
              "    <tr>\n",
              "      <th>1305</th>\n",
              "      <td>3</td>\n",
              "      <td>0</td>\n",
              "      <td>female</td>\n",
              "      <td>NaN</td>\n",
              "      <td>1</td>\n",
              "      <td>0</td>\n",
              "      <td>14.4542</td>\n",
              "      <td>NaN</td>\n",
              "      <td>C</td>\n",
              "      <td>Miss</td>\n",
              "    </tr>\n",
              "    <tr>\n",
              "      <th>1306</th>\n",
              "      <td>3</td>\n",
              "      <td>0</td>\n",
              "      <td>male</td>\n",
              "      <td>26.5000</td>\n",
              "      <td>0</td>\n",
              "      <td>0</td>\n",
              "      <td>7.2250</td>\n",
              "      <td>NaN</td>\n",
              "      <td>C</td>\n",
              "      <td>Mr</td>\n",
              "    </tr>\n",
              "    <tr>\n",
              "      <th>1307</th>\n",
              "      <td>3</td>\n",
              "      <td>0</td>\n",
              "      <td>male</td>\n",
              "      <td>27.0000</td>\n",
              "      <td>0</td>\n",
              "      <td>0</td>\n",
              "      <td>7.2250</td>\n",
              "      <td>NaN</td>\n",
              "      <td>C</td>\n",
              "      <td>Mr</td>\n",
              "    </tr>\n",
              "    <tr>\n",
              "      <th>1308</th>\n",
              "      <td>3</td>\n",
              "      <td>0</td>\n",
              "      <td>male</td>\n",
              "      <td>29.0000</td>\n",
              "      <td>0</td>\n",
              "      <td>0</td>\n",
              "      <td>7.8750</td>\n",
              "      <td>NaN</td>\n",
              "      <td>S</td>\n",
              "      <td>Mr</td>\n",
              "    </tr>\n",
              "  </tbody>\n",
              "</table>\n",
              "<p>1309 rows × 10 columns</p>\n",
              "</div>\n",
              "    <div class=\"colab-df-buttons\">\n",
              "\n",
              "  <div class=\"colab-df-container\">\n",
              "    <button class=\"colab-df-convert\" onclick=\"convertToInteractive('df-95e448a6-9d60-4cc1-9e8c-a8022e55feeb')\"\n",
              "            title=\"Convert this dataframe to an interactive table.\"\n",
              "            style=\"display:none;\">\n",
              "\n",
              "  <svg xmlns=\"http://www.w3.org/2000/svg\" height=\"24px\" viewBox=\"0 -960 960 960\">\n",
              "    <path d=\"M120-120v-720h720v720H120Zm60-500h600v-160H180v160Zm220 220h160v-160H400v160Zm0 220h160v-160H400v160ZM180-400h160v-160H180v160Zm440 0h160v-160H620v160ZM180-180h160v-160H180v160Zm440 0h160v-160H620v160Z\"/>\n",
              "  </svg>\n",
              "    </button>\n",
              "\n",
              "  <style>\n",
              "    .colab-df-container {\n",
              "      display:flex;\n",
              "      gap: 12px;\n",
              "    }\n",
              "\n",
              "    .colab-df-convert {\n",
              "      background-color: #E8F0FE;\n",
              "      border: none;\n",
              "      border-radius: 50%;\n",
              "      cursor: pointer;\n",
              "      display: none;\n",
              "      fill: #1967D2;\n",
              "      height: 32px;\n",
              "      padding: 0 0 0 0;\n",
              "      width: 32px;\n",
              "    }\n",
              "\n",
              "    .colab-df-convert:hover {\n",
              "      background-color: #E2EBFA;\n",
              "      box-shadow: 0px 1px 2px rgba(60, 64, 67, 0.3), 0px 1px 3px 1px rgba(60, 64, 67, 0.15);\n",
              "      fill: #174EA6;\n",
              "    }\n",
              "\n",
              "    .colab-df-buttons div {\n",
              "      margin-bottom: 4px;\n",
              "    }\n",
              "\n",
              "    [theme=dark] .colab-df-convert {\n",
              "      background-color: #3B4455;\n",
              "      fill: #D2E3FC;\n",
              "    }\n",
              "\n",
              "    [theme=dark] .colab-df-convert:hover {\n",
              "      background-color: #434B5C;\n",
              "      box-shadow: 0px 1px 3px 1px rgba(0, 0, 0, 0.15);\n",
              "      filter: drop-shadow(0px 1px 2px rgba(0, 0, 0, 0.3));\n",
              "      fill: #FFFFFF;\n",
              "    }\n",
              "  </style>\n",
              "\n",
              "    <script>\n",
              "      const buttonEl =\n",
              "        document.querySelector('#df-95e448a6-9d60-4cc1-9e8c-a8022e55feeb button.colab-df-convert');\n",
              "      buttonEl.style.display =\n",
              "        google.colab.kernel.accessAllowed ? 'block' : 'none';\n",
              "\n",
              "      async function convertToInteractive(key) {\n",
              "        const element = document.querySelector('#df-95e448a6-9d60-4cc1-9e8c-a8022e55feeb');\n",
              "        const dataTable =\n",
              "          await google.colab.kernel.invokeFunction('convertToInteractive',\n",
              "                                                    [key], {});\n",
              "        if (!dataTable) return;\n",
              "\n",
              "        const docLinkHtml = 'Like what you see? Visit the ' +\n",
              "          '<a target=\"_blank\" href=https://colab.research.google.com/notebooks/data_table.ipynb>data table notebook</a>'\n",
              "          + ' to learn more about interactive tables.';\n",
              "        element.innerHTML = '';\n",
              "        dataTable['output_type'] = 'display_data';\n",
              "        await google.colab.output.renderOutput(dataTable, element);\n",
              "        const docLink = document.createElement('div');\n",
              "        docLink.innerHTML = docLinkHtml;\n",
              "        element.appendChild(docLink);\n",
              "      }\n",
              "    </script>\n",
              "  </div>\n",
              "\n",
              "\n",
              "<div id=\"df-fe03506c-17db-4785-8815-6e02a6f75bc9\">\n",
              "  <button class=\"colab-df-quickchart\" onclick=\"quickchart('df-fe03506c-17db-4785-8815-6e02a6f75bc9')\"\n",
              "            title=\"Suggest charts\"\n",
              "            style=\"display:none;\">\n",
              "\n",
              "<svg xmlns=\"http://www.w3.org/2000/svg\" height=\"24px\"viewBox=\"0 0 24 24\"\n",
              "     width=\"24px\">\n",
              "    <g>\n",
              "        <path d=\"M19 3H5c-1.1 0-2 .9-2 2v14c0 1.1.9 2 2 2h14c1.1 0 2-.9 2-2V5c0-1.1-.9-2-2-2zM9 17H7v-7h2v7zm4 0h-2V7h2v10zm4 0h-2v-4h2v4z\"/>\n",
              "    </g>\n",
              "</svg>\n",
              "  </button>\n",
              "\n",
              "<style>\n",
              "  .colab-df-quickchart {\n",
              "      --bg-color: #E8F0FE;\n",
              "      --fill-color: #1967D2;\n",
              "      --hover-bg-color: #E2EBFA;\n",
              "      --hover-fill-color: #174EA6;\n",
              "      --disabled-fill-color: #AAA;\n",
              "      --disabled-bg-color: #DDD;\n",
              "  }\n",
              "\n",
              "  [theme=dark] .colab-df-quickchart {\n",
              "      --bg-color: #3B4455;\n",
              "      --fill-color: #D2E3FC;\n",
              "      --hover-bg-color: #434B5C;\n",
              "      --hover-fill-color: #FFFFFF;\n",
              "      --disabled-bg-color: #3B4455;\n",
              "      --disabled-fill-color: #666;\n",
              "  }\n",
              "\n",
              "  .colab-df-quickchart {\n",
              "    background-color: var(--bg-color);\n",
              "    border: none;\n",
              "    border-radius: 50%;\n",
              "    cursor: pointer;\n",
              "    display: none;\n",
              "    fill: var(--fill-color);\n",
              "    height: 32px;\n",
              "    padding: 0;\n",
              "    width: 32px;\n",
              "  }\n",
              "\n",
              "  .colab-df-quickchart:hover {\n",
              "    background-color: var(--hover-bg-color);\n",
              "    box-shadow: 0 1px 2px rgba(60, 64, 67, 0.3), 0 1px 3px 1px rgba(60, 64, 67, 0.15);\n",
              "    fill: var(--button-hover-fill-color);\n",
              "  }\n",
              "\n",
              "  .colab-df-quickchart-complete:disabled,\n",
              "  .colab-df-quickchart-complete:disabled:hover {\n",
              "    background-color: var(--disabled-bg-color);\n",
              "    fill: var(--disabled-fill-color);\n",
              "    box-shadow: none;\n",
              "  }\n",
              "\n",
              "  .colab-df-spinner {\n",
              "    border: 2px solid var(--fill-color);\n",
              "    border-color: transparent;\n",
              "    border-bottom-color: var(--fill-color);\n",
              "    animation:\n",
              "      spin 1s steps(1) infinite;\n",
              "  }\n",
              "\n",
              "  @keyframes spin {\n",
              "    0% {\n",
              "      border-color: transparent;\n",
              "      border-bottom-color: var(--fill-color);\n",
              "      border-left-color: var(--fill-color);\n",
              "    }\n",
              "    20% {\n",
              "      border-color: transparent;\n",
              "      border-left-color: var(--fill-color);\n",
              "      border-top-color: var(--fill-color);\n",
              "    }\n",
              "    30% {\n",
              "      border-color: transparent;\n",
              "      border-left-color: var(--fill-color);\n",
              "      border-top-color: var(--fill-color);\n",
              "      border-right-color: var(--fill-color);\n",
              "    }\n",
              "    40% {\n",
              "      border-color: transparent;\n",
              "      border-right-color: var(--fill-color);\n",
              "      border-top-color: var(--fill-color);\n",
              "    }\n",
              "    60% {\n",
              "      border-color: transparent;\n",
              "      border-right-color: var(--fill-color);\n",
              "    }\n",
              "    80% {\n",
              "      border-color: transparent;\n",
              "      border-right-color: var(--fill-color);\n",
              "      border-bottom-color: var(--fill-color);\n",
              "    }\n",
              "    90% {\n",
              "      border-color: transparent;\n",
              "      border-bottom-color: var(--fill-color);\n",
              "    }\n",
              "  }\n",
              "</style>\n",
              "\n",
              "  <script>\n",
              "    async function quickchart(key) {\n",
              "      const quickchartButtonEl =\n",
              "        document.querySelector('#' + key + ' button');\n",
              "      quickchartButtonEl.disabled = true;  // To prevent multiple clicks.\n",
              "      quickchartButtonEl.classList.add('colab-df-spinner');\n",
              "      try {\n",
              "        const charts = await google.colab.kernel.invokeFunction(\n",
              "            'suggestCharts', [key], {});\n",
              "      } catch (error) {\n",
              "        console.error('Error during call to suggestCharts:', error);\n",
              "      }\n",
              "      quickchartButtonEl.classList.remove('colab-df-spinner');\n",
              "      quickchartButtonEl.classList.add('colab-df-quickchart-complete');\n",
              "    }\n",
              "    (() => {\n",
              "      let quickchartButtonEl =\n",
              "        document.querySelector('#df-fe03506c-17db-4785-8815-6e02a6f75bc9 button');\n",
              "      quickchartButtonEl.style.display =\n",
              "        google.colab.kernel.accessAllowed ? 'block' : 'none';\n",
              "    })();\n",
              "  </script>\n",
              "</div>\n",
              "\n",
              "    </div>\n",
              "  </div>\n"
            ],
            "text/plain": [
              "      pclass  survived     sex      age  sibsp  parch      fare cabin  \\\n",
              "0          1         1  female  29.0000      0      0  211.3375    B5   \n",
              "1          1         1    male   0.9167      1      2  151.5500   C22   \n",
              "2          1         0  female   2.0000      1      2  151.5500   C22   \n",
              "3          1         0    male  30.0000      1      2  151.5500   C22   \n",
              "4          1         0  female  25.0000      1      2  151.5500   C22   \n",
              "...      ...       ...     ...      ...    ...    ...       ...   ...   \n",
              "1304       3         0  female  14.5000      1      0   14.4542   NaN   \n",
              "1305       3         0  female      NaN      1      0   14.4542   NaN   \n",
              "1306       3         0    male  26.5000      0      0    7.2250   NaN   \n",
              "1307       3         0    male  27.0000      0      0    7.2250   NaN   \n",
              "1308       3         0    male  29.0000      0      0    7.8750   NaN   \n",
              "\n",
              "     embarked   title  \n",
              "0           S    Miss  \n",
              "1           S  Master  \n",
              "2           S    Miss  \n",
              "3           S      Mr  \n",
              "4           S     Mrs  \n",
              "...       ...     ...  \n",
              "1304        C    Miss  \n",
              "1305        C    Miss  \n",
              "1306        C      Mr  \n",
              "1307        C      Mr  \n",
              "1308        S      Mr  \n",
              "\n",
              "[1309 rows x 10 columns]"
            ]
          },
          "execution_count": 4,
          "metadata": {},
          "output_type": "execute_result"
        }
      ],
      "source": [
        "pd.read_csv('titanic.csv')"
      ]
    },
    {
      "cell_type": "markdown",
      "metadata": {
        "id": "ayQu3Ab4s5m1"
      },
      "source": [
        "# to start working with pyspark we need to create spark session"
      ]
    },
    {
      "cell_type": "code",
      "execution_count": 5,
      "metadata": {
        "id": "TQYhgverslEs"
      },
      "outputs": [],
      "source": [
        "from pyspark.sql import SparkSession"
      ]
    },
    {
      "cell_type": "code",
      "execution_count": 6,
      "metadata": {
        "id": "eHAtjuLBslCF"
      },
      "outputs": [],
      "source": [
        "spark = SparkSession.builder.appName('Practice').getOrCreate()"
      ]
    },
    {
      "cell_type": "code",
      "execution_count": 7,
      "metadata": {
        "colab": {
          "base_uri": "https://localhost:8080/",
          "height": 221
        },
        "id": "THLKxM9hsk_t",
        "outputId": "0c98bd72-a165-438b-d0a4-8a906b84e321"
      },
      "outputs": [
        {
          "data": {
            "text/html": [
              "\n",
              "            <div>\n",
              "                <p><b>SparkSession - in-memory</b></p>\n",
              "                \n",
              "        <div>\n",
              "            <p><b>SparkContext</b></p>\n",
              "\n",
              "            <p><a href=\"http://0a6ddf3cac14:4040\">Spark UI</a></p>\n",
              "\n",
              "            <dl>\n",
              "              <dt>Version</dt>\n",
              "                <dd><code>v3.5.0</code></dd>\n",
              "              <dt>Master</dt>\n",
              "                <dd><code>local[*]</code></dd>\n",
              "              <dt>AppName</dt>\n",
              "                <dd><code>Practice</code></dd>\n",
              "            </dl>\n",
              "        </div>\n",
              "        \n",
              "            </div>\n",
              "        "
            ],
            "text/plain": [
              "<pyspark.sql.session.SparkSession at 0x7ab9c7dae110>"
            ]
          },
          "execution_count": 7,
          "metadata": {},
          "output_type": "execute_result"
        }
      ],
      "source": [
        "spark"
      ]
    },
    {
      "cell_type": "code",
      "execution_count": 8,
      "metadata": {
        "id": "ePLyx1-Fsk9Y"
      },
      "outputs": [],
      "source": [
        "df_pyspark = spark.read.csv('titanic.csv')"
      ]
    },
    {
      "cell_type": "code",
      "execution_count": 9,
      "metadata": {
        "colab": {
          "base_uri": "https://localhost:8080/"
        },
        "id": "G4LkMNCUsk6h",
        "outputId": "051cf154-f54b-42c2-df8d-47d2b66d4fd2"
      },
      "outputs": [
        {
          "data": {
            "text/plain": [
              "DataFrame[_c0: string, _c1: string, _c2: string, _c3: string, _c4: string, _c5: string, _c6: string, _c7: string, _c8: string, _c9: string]"
            ]
          },
          "execution_count": 9,
          "metadata": {},
          "output_type": "execute_result"
        }
      ],
      "source": [
        "df_pyspark"
      ]
    },
    {
      "cell_type": "code",
      "execution_count": 10,
      "metadata": {
        "colab": {
          "base_uri": "https://localhost:8080/"
        },
        "id": "_k6UiFXWsktx",
        "outputId": "08f4570f-7ebd-4f50-d9c1-ffa875c488aa"
      },
      "outputs": [
        {
          "name": "stdout",
          "output_type": "stream",
          "text": [
            "+------+--------+------+------+-----+-----+--------+-----+--------+------+\n",
            "|   _c0|     _c1|   _c2|   _c3|  _c4|  _c5|     _c6|  _c7|     _c8|   _c9|\n",
            "+------+--------+------+------+-----+-----+--------+-----+--------+------+\n",
            "|pclass|survived|   sex|   age|sibsp|parch|    fare|cabin|embarked| title|\n",
            "|     1|       1|female|  29.0|    0|    0|211.3375|   B5|       S|  Miss|\n",
            "|     1|       1|  male|0.9167|    1|    2|  151.55|  C22|       S|Master|\n",
            "|     1|       0|female|   2.0|    1|    2|  151.55|  C22|       S|  Miss|\n",
            "|     1|       0|  male|  30.0|    1|    2|  151.55|  C22|       S|    Mr|\n",
            "|     1|       0|female|  25.0|    1|    2|  151.55|  C22|       S|   Mrs|\n",
            "|     1|       1|  male|  48.0|    0|    0|   26.55|  E12|       S|    Mr|\n",
            "|     1|       1|female|  63.0|    1|    0| 77.9583|   D7|       S|  Miss|\n",
            "|     1|       0|  male|  39.0|    0|    0|     0.0|  A36|       S|    Mr|\n",
            "|     1|       1|female|  53.0|    2|    0| 51.4792| C101|       S|   Mrs|\n",
            "|     1|       0|  male|  71.0|    0|    0| 49.5042| NULL|       C|    Mr|\n",
            "|     1|       0|  male|  47.0|    1|    0| 227.525|  C62|       C| Other|\n",
            "|     1|       1|female|  18.0|    1|    0| 227.525|  C62|       C|   Mrs|\n",
            "|     1|       1|female|  24.0|    0|    0|    69.3|  B35|       C| Other|\n",
            "|     1|       1|female|  26.0|    0|    0|   78.85| NULL|       S|  Miss|\n",
            "|     1|       1|  male|  80.0|    0|    0|    30.0|  A23|       S|    Mr|\n",
            "|     1|       0|  male|  NULL|    0|    0|  25.925| NULL|       S|    Mr|\n",
            "|     1|       0|  male|  24.0|    0|    1|247.5208|  B58|       C|    Mr|\n",
            "|     1|       1|female|  50.0|    0|    1|247.5208|  B58|       C|   Mrs|\n",
            "|     1|       1|female|  32.0|    0|    0| 76.2917|  D15|       C|  Miss|\n",
            "+------+--------+------+------+-----+-----+--------+-----+--------+------+\n",
            "only showing top 20 rows\n",
            "\n"
          ]
        }
      ],
      "source": [
        "df_pyspark.show()"
      ]
    },
    {
      "cell_type": "code",
      "execution_count": 14,
      "metadata": {
        "colab": {
          "base_uri": "https://localhost:8080/"
        },
        "id": "3McCf-_btQji",
        "outputId": "f30625ac-f620-4e51-a8ed-db617c7426a9"
      },
      "outputs": [
        {
          "data": {
            "text/plain": [
              "DataFrame[pclass: string, survived: string, sex: string, age: string, sibsp: string, parch: string, fare: string, cabin: string, embarked: string, title: string]"
            ]
          },
          "execution_count": 14,
          "metadata": {},
          "output_type": "execute_result"
        }
      ],
      "source": [
        "df_pyspark = spark.read.option('header', 'true').csv('titanic.csv')\n",
        "df_pyspark"
      ]
    },
    {
      "cell_type": "code",
      "execution_count": 15,
      "metadata": {
        "colab": {
          "base_uri": "https://localhost:8080/"
        },
        "id": "t_UbDhaatQhP",
        "outputId": "0bc45f4e-d5db-43f3-95a6-a5e39ceb41cd"
      },
      "outputs": [
        {
          "name": "stdout",
          "output_type": "stream",
          "text": [
            "+------+--------+------+------+-----+-----+--------+-----+--------+------+\n",
            "|pclass|survived|   sex|   age|sibsp|parch|    fare|cabin|embarked| title|\n",
            "+------+--------+------+------+-----+-----+--------+-----+--------+------+\n",
            "|     1|       1|female|  29.0|    0|    0|211.3375|   B5|       S|  Miss|\n",
            "|     1|       1|  male|0.9167|    1|    2|  151.55|  C22|       S|Master|\n",
            "|     1|       0|female|   2.0|    1|    2|  151.55|  C22|       S|  Miss|\n",
            "|     1|       0|  male|  30.0|    1|    2|  151.55|  C22|       S|    Mr|\n",
            "|     1|       0|female|  25.0|    1|    2|  151.55|  C22|       S|   Mrs|\n",
            "|     1|       1|  male|  48.0|    0|    0|   26.55|  E12|       S|    Mr|\n",
            "|     1|       1|female|  63.0|    1|    0| 77.9583|   D7|       S|  Miss|\n",
            "|     1|       0|  male|  39.0|    0|    0|     0.0|  A36|       S|    Mr|\n",
            "|     1|       1|female|  53.0|    2|    0| 51.4792| C101|       S|   Mrs|\n",
            "|     1|       0|  male|  71.0|    0|    0| 49.5042| NULL|       C|    Mr|\n",
            "|     1|       0|  male|  47.0|    1|    0| 227.525|  C62|       C| Other|\n",
            "|     1|       1|female|  18.0|    1|    0| 227.525|  C62|       C|   Mrs|\n",
            "|     1|       1|female|  24.0|    0|    0|    69.3|  B35|       C| Other|\n",
            "|     1|       1|female|  26.0|    0|    0|   78.85| NULL|       S|  Miss|\n",
            "|     1|       1|  male|  80.0|    0|    0|    30.0|  A23|       S|    Mr|\n",
            "|     1|       0|  male|  NULL|    0|    0|  25.925| NULL|       S|    Mr|\n",
            "|     1|       0|  male|  24.0|    0|    1|247.5208|  B58|       C|    Mr|\n",
            "|     1|       1|female|  50.0|    0|    1|247.5208|  B58|       C|   Mrs|\n",
            "|     1|       1|female|  32.0|    0|    0| 76.2917|  D15|       C|  Miss|\n",
            "|     1|       0|  male|  36.0|    0|    0| 75.2417|   C6|       C|    Mr|\n",
            "+------+--------+------+------+-----+-----+--------+-----+--------+------+\n",
            "only showing top 20 rows\n",
            "\n"
          ]
        }
      ],
      "source": [
        "df_pyspark.show()"
      ]
    },
    {
      "cell_type": "code",
      "execution_count": 16,
      "metadata": {
        "colab": {
          "base_uri": "https://localhost:8080/"
        },
        "id": "9Y-pAq2atQet",
        "outputId": "1e1fccba-cb78-4b35-c87f-f13fdd2ed82d"
      },
      "outputs": [
        {
          "data": {
            "text/plain": [
              "pyspark.sql.dataframe.DataFrame"
            ]
          },
          "execution_count": 16,
          "metadata": {},
          "output_type": "execute_result"
        }
      ],
      "source": [
        "type(df_pyspark)"
      ]
    },
    {
      "cell_type": "code",
      "execution_count": 18,
      "metadata": {
        "colab": {
          "base_uri": "https://localhost:8080/"
        },
        "id": "mxPWbe8WtQVJ",
        "outputId": "981d5280-2004-420e-b61f-67c033605b6f"
      },
      "outputs": [
        {
          "data": {
            "text/plain": [
              "[Row(pclass='1', survived='1', sex='female', age='29.0', sibsp='0', parch='0', fare='211.3375', cabin='B5', embarked='S', title='Miss'),\n",
              " Row(pclass='1', survived='1', sex='male', age='0.9167', sibsp='1', parch='2', fare='151.55', cabin='C22', embarked='S', title='Master'),\n",
              " Row(pclass='1', survived='0', sex='female', age='2.0', sibsp='1', parch='2', fare='151.55', cabin='C22', embarked='S', title='Miss')]"
            ]
          },
          "execution_count": 18,
          "metadata": {},
          "output_type": "execute_result"
        }
      ],
      "source": [
        "df_pyspark.head(3)"
      ]
    },
    {
      "cell_type": "code",
      "execution_count": 19,
      "metadata": {
        "colab": {
          "base_uri": "https://localhost:8080/"
        },
        "id": "sB9ptoxVtQS6",
        "outputId": "596706c5-fea0-4e09-e359-71cb0bebe7a9"
      },
      "outputs": [
        {
          "name": "stdout",
          "output_type": "stream",
          "text": [
            "root\n",
            " |-- pclass: string (nullable = true)\n",
            " |-- survived: string (nullable = true)\n",
            " |-- sex: string (nullable = true)\n",
            " |-- age: string (nullable = true)\n",
            " |-- sibsp: string (nullable = true)\n",
            " |-- parch: string (nullable = true)\n",
            " |-- fare: string (nullable = true)\n",
            " |-- cabin: string (nullable = true)\n",
            " |-- embarked: string (nullable = true)\n",
            " |-- title: string (nullable = true)\n",
            "\n"
          ]
        }
      ],
      "source": [
        "df_pyspark.printSchema()  # schema of the data similar to df.info()"
      ]
    },
    {
      "cell_type": "markdown",
      "metadata": {
        "id": "I_iAkgTcv8c3"
      },
      "source": [
        "by default its taking all value as string we need to change that."
      ]
    },
    {
      "cell_type": "code",
      "execution_count": 21,
      "metadata": {
        "colab": {
          "base_uri": "https://localhost:8080/"
        },
        "id": "PmSJKUeZwBwm",
        "outputId": "a19ef9b1-9d00-4bf4-b493-8c945e7d6f6e"
      },
      "outputs": [
        {
          "name": "stdout",
          "output_type": "stream",
          "text": [
            "root\n",
            " |-- pclass: integer (nullable = true)\n",
            " |-- survived: integer (nullable = true)\n",
            " |-- sex: string (nullable = true)\n",
            " |-- age: double (nullable = true)\n",
            " |-- sibsp: integer (nullable = true)\n",
            " |-- parch: integer (nullable = true)\n",
            " |-- fare: double (nullable = true)\n",
            " |-- cabin: string (nullable = true)\n",
            " |-- embarked: string (nullable = true)\n",
            " |-- title: string (nullable = true)\n",
            "\n"
          ]
        }
      ],
      "source": [
        "df_pyspark = spark.read.option('header', 'true').option('inferSchema', 'true').csv('titanic.csv')\n",
        "df_pyspark.printSchema()"
      ]
    },
    {
      "cell_type": "code",
      "execution_count": 22,
      "metadata": {
        "colab": {
          "base_uri": "https://localhost:8080/"
        },
        "id": "NlcdgsGmwBr5",
        "outputId": "b3bb4319-b83f-4f2f-8e16-99081fe77509"
      },
      "outputs": [
        {
          "name": "stdout",
          "output_type": "stream",
          "text": [
            "root\n",
            " |-- pclass: integer (nullable = true)\n",
            " |-- survived: integer (nullable = true)\n",
            " |-- sex: string (nullable = true)\n",
            " |-- age: double (nullable = true)\n",
            " |-- sibsp: integer (nullable = true)\n",
            " |-- parch: integer (nullable = true)\n",
            " |-- fare: double (nullable = true)\n",
            " |-- cabin: string (nullable = true)\n",
            " |-- embarked: string (nullable = true)\n",
            " |-- title: string (nullable = true)\n",
            "\n"
          ]
        }
      ],
      "source": [
        "# or we can do it when we fist try to read file\n",
        "df_pyspark = spark.read.csv('titanic.csv', header=True, inferSchema=True)\n",
        "df_pyspark.printSchema()"
      ]
    },
    {
      "cell_type": "code",
      "execution_count": 27,
      "metadata": {
        "colab": {
          "base_uri": "https://localhost:8080/"
        },
        "id": "4F24ywAjxM59",
        "outputId": "41fe125e-e2c8-4096-b003-00fc9f5a040f"
      },
      "outputs": [
        {
          "data": {
            "text/plain": [
              "[('pclass', 'int'),\n",
              " ('survived', 'int'),\n",
              " ('sex', 'string'),\n",
              " ('age', 'double'),\n",
              " ('sibsp', 'int'),\n",
              " ('parch', 'int'),\n",
              " ('fare', 'double'),\n",
              " ('cabin', 'string'),\n",
              " ('embarked', 'string'),\n",
              " ('title', 'string')]"
            ]
          },
          "execution_count": 27,
          "metadata": {},
          "output_type": "execute_result"
        }
      ],
      "source": [
        "df_pyspark.dtypes # similar to pandas"
      ]
    },
    {
      "cell_type": "code",
      "execution_count": 23,
      "metadata": {
        "colab": {
          "base_uri": "https://localhost:8080/"
        },
        "id": "r2Ov-ke7wBoQ",
        "outputId": "9564e372-99ac-4583-cae9-c1f29c09cbad"
      },
      "outputs": [
        {
          "data": {
            "text/plain": [
              "pyspark.sql.dataframe.DataFrame"
            ]
          },
          "execution_count": 23,
          "metadata": {},
          "output_type": "execute_result"
        }
      ],
      "source": [
        "type(df_pyspark)"
      ]
    },
    {
      "cell_type": "code",
      "execution_count": 24,
      "metadata": {
        "colab": {
          "base_uri": "https://localhost:8080/"
        },
        "id": "8Ax5qw08wBls",
        "outputId": "39df91c0-a0dc-4a86-993e-503c45fd1fba"
      },
      "outputs": [
        {
          "data": {
            "text/plain": [
              "['pclass',\n",
              " 'survived',\n",
              " 'sex',\n",
              " 'age',\n",
              " 'sibsp',\n",
              " 'parch',\n",
              " 'fare',\n",
              " 'cabin',\n",
              " 'embarked',\n",
              " 'title']"
            ]
          },
          "execution_count": 24,
          "metadata": {},
          "output_type": "execute_result"
        }
      ],
      "source": [
        "df_pyspark.columns"
      ]
    },
    {
      "cell_type": "code",
      "execution_count": 26,
      "metadata": {
        "colab": {
          "base_uri": "https://localhost:8080/"
        },
        "id": "XLFkaAFPwBgw",
        "outputId": "fc4bec98-2a36-4418-c84b-ad26cddf3a9a"
      },
      "outputs": [
        {
          "name": "stdout",
          "output_type": "stream",
          "text": [
            "+------+--------+\n",
            "| title|survived|\n",
            "+------+--------+\n",
            "|  Miss|       1|\n",
            "|Master|       1|\n",
            "|  Miss|       0|\n",
            "|    Mr|       0|\n",
            "|   Mrs|       0|\n",
            "|    Mr|       1|\n",
            "|  Miss|       1|\n",
            "|    Mr|       0|\n",
            "|   Mrs|       1|\n",
            "|    Mr|       0|\n",
            "| Other|       0|\n",
            "|   Mrs|       1|\n",
            "| Other|       1|\n",
            "|  Miss|       1|\n",
            "|    Mr|       1|\n",
            "|    Mr|       0|\n",
            "|    Mr|       0|\n",
            "|   Mrs|       1|\n",
            "|  Miss|       1|\n",
            "|    Mr|       0|\n",
            "+------+--------+\n",
            "only showing top 20 rows\n",
            "\n"
          ]
        }
      ],
      "source": [
        "# getting only selected columns\n",
        "df_pyspark.select(['title', 'survived']).show()"
      ]
    },
    {
      "cell_type": "code",
      "execution_count": 31,
      "metadata": {
        "colab": {
          "base_uri": "https://localhost:8080/"
        },
        "id": "MVL8Tir7xg43",
        "outputId": "23efec80-69e9-4280-8f68-450fff749255"
      },
      "outputs": [
        {
          "name": "stdout",
          "output_type": "stream",
          "text": [
            "+-------+------------------+-------------------+------+------------------+------------------+------------------+-----------------+-----+--------+------+\n",
            "|summary|            pclass|           survived|   sex|               age|             sibsp|             parch|             fare|cabin|embarked| title|\n",
            "+-------+------------------+-------------------+------+------------------+------------------+------------------+-----------------+-----+--------+------+\n",
            "|  count|              1309|               1309|  1309|              1046|              1309|              1309|             1308|  295|    1307|  1309|\n",
            "|   mean| 2.294881588999236| 0.3819709702062643|  NULL|  29.8811345124283|0.4988540870893812|0.3850267379679144|33.29547928134572| NULL|    NULL|  NULL|\n",
            "| stddev|0.8378360189701272|0.48605517086648325|  NULL|14.413499699923596|1.0416583905961012|0.8655602753495143|51.75866823917421| NULL|    NULL|  NULL|\n",
            "|    min|                 1|                  0|female|            0.1667|                 0|                 0|              0.0|  A10|       C|Master|\n",
            "|    max|                 3|                  1|  male|              80.0|                 8|                 9|         512.3292|    T|       S| Other|\n",
            "+-------+------------------+-------------------+------+------------------+------------------+------------------+-----------------+-----+--------+------+\n",
            "\n"
          ]
        }
      ],
      "source": [
        "df_pyspark.describe().show()"
      ]
    },
    {
      "cell_type": "code",
      "execution_count": 33,
      "metadata": {
        "colab": {
          "base_uri": "https://localhost:8080/"
        },
        "id": "Q6sHV1xVxgvc",
        "outputId": "e4fc6da0-5fdf-48e9-dcf6-cc83f75a244e"
      },
      "outputs": [
        {
          "name": "stdout",
          "output_type": "stream",
          "text": [
            "+------+--------+------+------+-----+-----+--------+-----+--------+------+------------------+\n",
            "|pclass|survived|   sex|   age|sibsp|parch|    fare|cabin|embarked| title|               xyz|\n",
            "+------+--------+------+------+-----+-----+--------+-----+--------+------+------------------+\n",
            "|     1|       1|female|  29.0|    0|    0|211.3375|   B5|       S|  Miss|          240.3375|\n",
            "|     1|       1|  male|0.9167|    1|    2|  151.55|  C22|       S|Master|          152.4667|\n",
            "|     1|       0|female|   2.0|    1|    2|  151.55|  C22|       S|  Miss|            153.55|\n",
            "|     1|       0|  male|  30.0|    1|    2|  151.55|  C22|       S|    Mr|            181.55|\n",
            "|     1|       0|female|  25.0|    1|    2|  151.55|  C22|       S|   Mrs|            176.55|\n",
            "|     1|       1|  male|  48.0|    0|    0|   26.55|  E12|       S|    Mr|             74.55|\n",
            "|     1|       1|female|  63.0|    1|    0| 77.9583|   D7|       S|  Miss|          140.9583|\n",
            "|     1|       0|  male|  39.0|    0|    0|     0.0|  A36|       S|    Mr|              39.0|\n",
            "|     1|       1|female|  53.0|    2|    0| 51.4792| C101|       S|   Mrs|104.47919999999999|\n",
            "|     1|       0|  male|  71.0|    0|    0| 49.5042| NULL|       C|    Mr|          120.5042|\n",
            "|     1|       0|  male|  47.0|    1|    0| 227.525|  C62|       C| Other|           274.525|\n",
            "|     1|       1|female|  18.0|    1|    0| 227.525|  C62|       C|   Mrs|           245.525|\n",
            "|     1|       1|female|  24.0|    0|    0|    69.3|  B35|       C| Other|              93.3|\n",
            "|     1|       1|female|  26.0|    0|    0|   78.85| NULL|       S|  Miss|            104.85|\n",
            "|     1|       1|  male|  80.0|    0|    0|    30.0|  A23|       S|    Mr|             110.0|\n",
            "|     1|       0|  male|  NULL|    0|    0|  25.925| NULL|       S|    Mr|              NULL|\n",
            "|     1|       0|  male|  24.0|    0|    1|247.5208|  B58|       C|    Mr|          271.5208|\n",
            "|     1|       1|female|  50.0|    0|    1|247.5208|  B58|       C|   Mrs|          297.5208|\n",
            "|     1|       1|female|  32.0|    0|    0| 76.2917|  D15|       C|  Miss|          108.2917|\n",
            "|     1|       0|  male|  36.0|    0|    0| 75.2417|   C6|       C|    Mr|          111.2417|\n",
            "+------+--------+------+------+-----+-----+--------+-----+--------+------+------------------+\n",
            "only showing top 20 rows\n",
            "\n"
          ]
        }
      ],
      "source": [
        "### adding columns\n",
        "df_pyspark = df_pyspark.withColumn('xyz', df_pyspark.age + df_pyspark.fare)\n",
        "df_pyspark.show()"
      ]
    },
    {
      "cell_type": "code",
      "execution_count": 34,
      "metadata": {
        "colab": {
          "base_uri": "https://localhost:8080/"
        },
        "id": "bdDSwk_5xgtW",
        "outputId": "11798b89-998c-4cb8-93b8-4a16dd939a6a"
      },
      "outputs": [
        {
          "name": "stdout",
          "output_type": "stream",
          "text": [
            "+------+--------+------+------+-----+-----+--------+-----+--------+------+\n",
            "|pclass|survived|   sex|   age|sibsp|parch|    fare|cabin|embarked| title|\n",
            "+------+--------+------+------+-----+-----+--------+-----+--------+------+\n",
            "|     1|       1|female|  29.0|    0|    0|211.3375|   B5|       S|  Miss|\n",
            "|     1|       1|  male|0.9167|    1|    2|  151.55|  C22|       S|Master|\n",
            "|     1|       0|female|   2.0|    1|    2|  151.55|  C22|       S|  Miss|\n",
            "|     1|       0|  male|  30.0|    1|    2|  151.55|  C22|       S|    Mr|\n",
            "|     1|       0|female|  25.0|    1|    2|  151.55|  C22|       S|   Mrs|\n",
            "|     1|       1|  male|  48.0|    0|    0|   26.55|  E12|       S|    Mr|\n",
            "|     1|       1|female|  63.0|    1|    0| 77.9583|   D7|       S|  Miss|\n",
            "|     1|       0|  male|  39.0|    0|    0|     0.0|  A36|       S|    Mr|\n",
            "|     1|       1|female|  53.0|    2|    0| 51.4792| C101|       S|   Mrs|\n",
            "|     1|       0|  male|  71.0|    0|    0| 49.5042| NULL|       C|    Mr|\n",
            "|     1|       0|  male|  47.0|    1|    0| 227.525|  C62|       C| Other|\n",
            "|     1|       1|female|  18.0|    1|    0| 227.525|  C62|       C|   Mrs|\n",
            "|     1|       1|female|  24.0|    0|    0|    69.3|  B35|       C| Other|\n",
            "|     1|       1|female|  26.0|    0|    0|   78.85| NULL|       S|  Miss|\n",
            "|     1|       1|  male|  80.0|    0|    0|    30.0|  A23|       S|    Mr|\n",
            "|     1|       0|  male|  NULL|    0|    0|  25.925| NULL|       S|    Mr|\n",
            "|     1|       0|  male|  24.0|    0|    1|247.5208|  B58|       C|    Mr|\n",
            "|     1|       1|female|  50.0|    0|    1|247.5208|  B58|       C|   Mrs|\n",
            "|     1|       1|female|  32.0|    0|    0| 76.2917|  D15|       C|  Miss|\n",
            "|     1|       0|  male|  36.0|    0|    0| 75.2417|   C6|       C|    Mr|\n",
            "+------+--------+------+------+-----+-----+--------+-----+--------+------+\n",
            "only showing top 20 rows\n",
            "\n"
          ]
        }
      ],
      "source": [
        "### dropping columns\n",
        "df_pyspark = df_pyspark.drop('xyz')\n",
        "df_pyspark.show()"
      ]
    },
    {
      "cell_type": "code",
      "execution_count": 35,
      "metadata": {
        "colab": {
          "base_uri": "https://localhost:8080/"
        },
        "id": "-A_mlfjwxgq1",
        "outputId": "3cd0d586-ac29-4c54-ec16-b2ae6697336b"
      },
      "outputs": [
        {
          "name": "stdout",
          "output_type": "stream",
          "text": [
            "+-----+--------+------+------+-----+-----+--------+-----+--------+------+\n",
            "|class|survived|   sex|   age|sibsp|parch|    fare|cabin|embarked| title|\n",
            "+-----+--------+------+------+-----+-----+--------+-----+--------+------+\n",
            "|    1|       1|female|  29.0|    0|    0|211.3375|   B5|       S|  Miss|\n",
            "|    1|       1|  male|0.9167|    1|    2|  151.55|  C22|       S|Master|\n",
            "|    1|       0|female|   2.0|    1|    2|  151.55|  C22|       S|  Miss|\n",
            "|    1|       0|  male|  30.0|    1|    2|  151.55|  C22|       S|    Mr|\n",
            "|    1|       0|female|  25.0|    1|    2|  151.55|  C22|       S|   Mrs|\n",
            "|    1|       1|  male|  48.0|    0|    0|   26.55|  E12|       S|    Mr|\n",
            "|    1|       1|female|  63.0|    1|    0| 77.9583|   D7|       S|  Miss|\n",
            "|    1|       0|  male|  39.0|    0|    0|     0.0|  A36|       S|    Mr|\n",
            "|    1|       1|female|  53.0|    2|    0| 51.4792| C101|       S|   Mrs|\n",
            "|    1|       0|  male|  71.0|    0|    0| 49.5042| NULL|       C|    Mr|\n",
            "|    1|       0|  male|  47.0|    1|    0| 227.525|  C62|       C| Other|\n",
            "|    1|       1|female|  18.0|    1|    0| 227.525|  C62|       C|   Mrs|\n",
            "|    1|       1|female|  24.0|    0|    0|    69.3|  B35|       C| Other|\n",
            "|    1|       1|female|  26.0|    0|    0|   78.85| NULL|       S|  Miss|\n",
            "|    1|       1|  male|  80.0|    0|    0|    30.0|  A23|       S|    Mr|\n",
            "|    1|       0|  male|  NULL|    0|    0|  25.925| NULL|       S|    Mr|\n",
            "|    1|       0|  male|  24.0|    0|    1|247.5208|  B58|       C|    Mr|\n",
            "|    1|       1|female|  50.0|    0|    1|247.5208|  B58|       C|   Mrs|\n",
            "|    1|       1|female|  32.0|    0|    0| 76.2917|  D15|       C|  Miss|\n",
            "|    1|       0|  male|  36.0|    0|    0| 75.2417|   C6|       C|    Mr|\n",
            "+-----+--------+------+------+-----+-----+--------+-----+--------+------+\n",
            "only showing top 20 rows\n",
            "\n"
          ]
        }
      ],
      "source": [
        "### reanaming column\n",
        "df_pyspark = df_pyspark.withColumnRenamed('pclass', 'class')\n",
        "df_pyspark.show()"
      ]
    },
    {
      "cell_type": "markdown",
      "metadata": {
        "id": "UiGfWgBS0F9w"
      },
      "source": [
        "## Handling missing values\n",
        "\n",
        "\n",
        "*   Dropping columns\n",
        "*   Dropping Rows\n",
        "*   various parameter in dropping functionality\n",
        "*   Handling Missing vlaues by Mean, Median and Mode\n",
        "\n"
      ]
    },
    {
      "cell_type": "code",
      "execution_count": 36,
      "metadata": {
        "colab": {
          "base_uri": "https://localhost:8080/"
        },
        "id": "y0ouoqsvxgmE",
        "outputId": "8bfe9a00-2421-4de9-b0c0-bbfc1391989b"
      },
      "outputs": [
        {
          "name": "stdout",
          "output_type": "stream",
          "text": [
            "+---------+----+----------+------+\n",
            "|     Name| age|Experience|Salary|\n",
            "+---------+----+----------+------+\n",
            "|    Krish|  31|        10| 30000|\n",
            "|Sudhanshu|  30|         8| 25000|\n",
            "|    Sunny|  29|         4| 20000|\n",
            "|     Paul|  24|         3| 20000|\n",
            "|   Harsha|  21|         1| 15000|\n",
            "|  Shubham|  23|         2| 18000|\n",
            "|   Mahesh|NULL|      NULL| 40000|\n",
            "|     NULL|  34|        10| 38000|\n",
            "|     NULL|  36|      NULL|  NULL|\n",
            "+---------+----+----------+------+\n",
            "\n"
          ]
        }
      ],
      "source": [
        "df_pyspark = spark.read.csv('test2.csv', header=True, inferSchema=True)\n",
        "df_pyspark.show()"
      ]
    },
    {
      "cell_type": "code",
      "execution_count": 37,
      "metadata": {
        "colab": {
          "base_uri": "https://localhost:8080/"
        },
        "id": "cplw61HkxgeA",
        "outputId": "4f21513e-3aab-4243-b0f0-18a96710e141"
      },
      "outputs": [
        {
          "name": "stdout",
          "output_type": "stream",
          "text": [
            "+----+----------+------+\n",
            "| age|Experience|Salary|\n",
            "+----+----------+------+\n",
            "|  31|        10| 30000|\n",
            "|  30|         8| 25000|\n",
            "|  29|         4| 20000|\n",
            "|  24|         3| 20000|\n",
            "|  21|         1| 15000|\n",
            "|  23|         2| 18000|\n",
            "|NULL|      NULL| 40000|\n",
            "|  34|        10| 38000|\n",
            "|  36|      NULL|  NULL|\n",
            "+----+----------+------+\n",
            "\n"
          ]
        }
      ],
      "source": [
        "## dropping column easy\n",
        "df_pyspark.drop('Name').show() # this is not in place so we have to update out data set variable if we want to change to happen in main"
      ]
    },
    {
      "cell_type": "code",
      "execution_count": 38,
      "metadata": {
        "colab": {
          "base_uri": "https://localhost:8080/"
        },
        "id": "gGIxJwS-121W",
        "outputId": "78ba655c-f518-48ab-b683-980d74e9b717"
      },
      "outputs": [
        {
          "name": "stdout",
          "output_type": "stream",
          "text": [
            "+---------+---+----------+------+\n",
            "|     Name|age|Experience|Salary|\n",
            "+---------+---+----------+------+\n",
            "|    Krish| 31|        10| 30000|\n",
            "|Sudhanshu| 30|         8| 25000|\n",
            "|    Sunny| 29|         4| 20000|\n",
            "|     Paul| 24|         3| 20000|\n",
            "|   Harsha| 21|         1| 15000|\n",
            "|  Shubham| 23|         2| 18000|\n",
            "+---------+---+----------+------+\n",
            "\n"
          ]
        }
      ],
      "source": [
        "### removing null rows\n",
        "df_pyspark.na.drop(how='any').show()\n",
        "# if we change how to 'all' means it will drop null value row if all the values in row are null"
      ]
    },
    {
      "cell_type": "code",
      "execution_count": 39,
      "metadata": {
        "colab": {
          "base_uri": "https://localhost:8080/"
        },
        "id": "oyoFtzty12yx",
        "outputId": "1a056b1d-251e-46fc-908f-623df729ac3b"
      },
      "outputs": [
        {
          "name": "stdout",
          "output_type": "stream",
          "text": [
            "+---------+----+----------+------+\n",
            "|     Name| age|Experience|Salary|\n",
            "+---------+----+----------+------+\n",
            "|    Krish|  31|        10| 30000|\n",
            "|Sudhanshu|  30|         8| 25000|\n",
            "|    Sunny|  29|         4| 20000|\n",
            "|     Paul|  24|         3| 20000|\n",
            "|   Harsha|  21|         1| 15000|\n",
            "|  Shubham|  23|         2| 18000|\n",
            "|   Mahesh|NULL|      NULL| 40000|\n",
            "|     NULL|  34|        10| 38000|\n",
            "+---------+----+----------+------+\n",
            "\n"
          ]
        }
      ],
      "source": [
        "### threshold in drop\n",
        "df_pyspark.na.drop(how='any', thresh=2).show()\n",
        "# threshold tell us how many null value accepted\n",
        "# on our data set last row contained 3 nnull value so it was deleted"
      ]
    },
    {
      "cell_type": "code",
      "execution_count": 41,
      "metadata": {
        "colab": {
          "base_uri": "https://localhost:8080/"
        },
        "id": "7JxTNsYW12wZ",
        "outputId": "c5f653d6-11d0-45b9-d96b-faaf3eeaa62f"
      },
      "outputs": [
        {
          "name": "stdout",
          "output_type": "stream",
          "text": [
            "+---------+---+----------+------+\n",
            "|     Name|age|Experience|Salary|\n",
            "+---------+---+----------+------+\n",
            "|    Krish| 31|        10| 30000|\n",
            "|Sudhanshu| 30|         8| 25000|\n",
            "|    Sunny| 29|         4| 20000|\n",
            "|     Paul| 24|         3| 20000|\n",
            "|   Harsha| 21|         1| 15000|\n",
            "|  Shubham| 23|         2| 18000|\n",
            "|     NULL| 34|        10| 38000|\n",
            "+---------+---+----------+------+\n",
            "\n"
          ]
        }
      ],
      "source": [
        "### subset in drop\n",
        "df_pyspark.na.drop(how='any', subset=['Experience', 'Age']).show()\n",
        "# only drops null from subset columns only"
      ]
    },
    {
      "cell_type": "code",
      "execution_count": 46,
      "metadata": {
        "colab": {
          "base_uri": "https://localhost:8080/"
        },
        "id": "7PJlQFQs4f_D",
        "outputId": "d40d0d99-5744-4561-df10-b8658dfcf4bb"
      },
      "outputs": [
        {
          "name": "stdout",
          "output_type": "stream",
          "text": [
            "+---------+----+----------+------+\n",
            "|     Name| age|Experience|Salary|\n",
            "+---------+----+----------+------+\n",
            "|    Krish|  31|        10| 30000|\n",
            "|Sudhanshu|  30|         8| 25000|\n",
            "|    Sunny|  29|         4| 20000|\n",
            "|     Paul|  24|         3| 20000|\n",
            "|   Harsha|  21|         1| 15000|\n",
            "|  Shubham|  23|         2| 18000|\n",
            "|   Mahesh|NULL|      NULL| 40000|\n",
            "|     NULL|  34|        10| 38000|\n",
            "|     NULL|  36|      NULL|  NULL|\n",
            "+---------+----+----------+------+\n",
            "\n"
          ]
        }
      ],
      "source": [
        "df_pyspark.show()"
      ]
    },
    {
      "cell_type": "code",
      "execution_count": 55,
      "metadata": {
        "colab": {
          "base_uri": "https://localhost:8080/"
        },
        "id": "jRrblSbd12t0",
        "outputId": "2a013a98-9ed0-4128-e4f6-4eeb3622a5f5"
      },
      "outputs": [
        {
          "name": "stdout",
          "output_type": "stream",
          "text": [
            "+-------------+----+----------+------+\n",
            "|         Name| age|Experience|Salary|\n",
            "+-------------+----+----------+------+\n",
            "|        Krish|  31|        10| 30000|\n",
            "|    Sudhanshu|  30|         8| 25000|\n",
            "|        Sunny|  29|         4| 20000|\n",
            "|         Paul|  24|         3| 20000|\n",
            "|       Harsha|  21|         1| 15000|\n",
            "|      Shubham|  23|         2| 18000|\n",
            "|       Mahesh|NULL|      NULL| 40000|\n",
            "|missing value|  34|        10| 38000|\n",
            "|missing value|  36|      NULL|  NULL|\n",
            "+-------------+----+----------+------+\n",
            "\n"
          ]
        }
      ],
      "source": [
        "## filling missing value\n",
        "df_pyspark.na.fill('missing value').show()\n",
        "# only name has string datatype so it only filled that column we need to provide number value ot full other column"
      ]
    },
    {
      "cell_type": "code",
      "execution_count": 56,
      "metadata": {
        "colab": {
          "base_uri": "https://localhost:8080/"
        },
        "id": "XfapZt6U12rc",
        "outputId": "53f852fb-e931-49e1-ae83-5b3ac9558334"
      },
      "outputs": [
        {
          "name": "stdout",
          "output_type": "stream",
          "text": [
            "+---------+---+----------+------+\n",
            "|     Name|age|Experience|Salary|\n",
            "+---------+---+----------+------+\n",
            "|    Krish| 31|        10| 30000|\n",
            "|Sudhanshu| 30|         8| 25000|\n",
            "|    Sunny| 29|         4| 20000|\n",
            "|     Paul| 24|         3| 20000|\n",
            "|   Harsha| 21|         1| 15000|\n",
            "|  Shubham| 23|         2| 18000|\n",
            "|   Mahesh|  0|         0| 40000|\n",
            "|     NULL| 34|        10| 38000|\n",
            "|     NULL| 36|         0|     0|\n",
            "+---------+---+----------+------+\n",
            "\n"
          ]
        }
      ],
      "source": [
        "df_pyspark.na.fill(0).show()\n",
        "# only numerical column get filled with 0"
      ]
    },
    {
      "cell_type": "markdown",
      "metadata": {
        "id": "b0fDKI6d6Tw8"
      },
      "source": [
        "### filling using imputer"
      ]
    },
    {
      "cell_type": "code",
      "execution_count": 57,
      "metadata": {
        "colab": {
          "base_uri": "https://localhost:8080/"
        },
        "id": "CqA0UHxi12on",
        "outputId": "a09c3f84-4998-4c74-fa4b-25f8277225f6"
      },
      "outputs": [
        {
          "name": "stdout",
          "output_type": "stream",
          "text": [
            "+---------+----+----------+------+-----------+------------------+--------------+\n",
            "|     Name| age|Experience|Salary|age_imputed|Experience_imputed|Salary_imputed|\n",
            "+---------+----+----------+------+-----------+------------------+--------------+\n",
            "|    Krish|  31|        10| 30000|         31|                10|         30000|\n",
            "|Sudhanshu|  30|         8| 25000|         30|                 8|         25000|\n",
            "|    Sunny|  29|         4| 20000|         29|                 4|         20000|\n",
            "|     Paul|  24|         3| 20000|         24|                 3|         20000|\n",
            "|   Harsha|  21|         1| 15000|         21|                 1|         15000|\n",
            "|  Shubham|  23|         2| 18000|         23|                 2|         18000|\n",
            "|   Mahesh|NULL|      NULL| 40000|         28|                 5|         40000|\n",
            "|     NULL|  34|        10| 38000|         34|                10|         38000|\n",
            "|     NULL|  36|      NULL|  NULL|         36|                 5|         25750|\n",
            "+---------+----+----------+------+-----------+------------------+--------------+\n",
            "\n"
          ]
        }
      ],
      "source": [
        "from pyspark.ml.feature import Imputer\n",
        "imputer = Imputer(\n",
        "    inputCols=['age', 'Experience', 'Salary'],\n",
        "    outputCols=[\"{}_imputed\".format(c) for c in ['age', 'Experience', 'Salary']]\n",
        ").setStrategy(\"mean\") # it can be median/mode\n",
        "\n",
        "df_pyspark = imputer.fit(df_pyspark).transform(df_pyspark)\n",
        "df_pyspark.show()"
      ]
    },
    {
      "cell_type": "markdown",
      "metadata": {
        "id": "IcHf_oIi6xUd"
      },
      "source": [
        "## PySpark DataFrames\n",
        "\n",
        "* filter operation\n",
        "* &,|,==\n",
        "* ~"
      ]
    },
    {
      "cell_type": "code",
      "execution_count": 59,
      "metadata": {
        "colab": {
          "base_uri": "https://localhost:8080/"
        },
        "id": "xKziDx0S12Ys",
        "outputId": "98c52f80-7b17-47d8-9f88-5483c064200d"
      },
      "outputs": [
        {
          "name": "stdout",
          "output_type": "stream",
          "text": [
            "+---------+---+----------+------+\n",
            "|     Name|age|Experience|Salary|\n",
            "+---------+---+----------+------+\n",
            "|    Krish| 31|        10| 30000|\n",
            "|Sudhanshu| 30|         8| 25000|\n",
            "|    Sunny| 29|         4| 20000|\n",
            "|     Paul| 24|         3| 20000|\n",
            "|   Harsha| 21|         1| 15000|\n",
            "|  Shubham| 23|         2| 18000|\n",
            "+---------+---+----------+------+\n",
            "\n"
          ]
        }
      ],
      "source": [
        "df_pyspark = spark.read.csv('test1.csv', header=True, inferSchema=True)\n",
        "df_pyspark.show()"
      ]
    },
    {
      "cell_type": "markdown",
      "metadata": {
        "id": "dOLyP3gnFyGQ"
      },
      "source": [
        "### Filter Operations"
      ]
    },
    {
      "cell_type": "code",
      "execution_count": 60,
      "metadata": {
        "colab": {
          "base_uri": "https://localhost:8080/"
        },
        "id": "EYdSGFzV12P2",
        "outputId": "cd1c11bb-5a99-4423-cfdc-1619375af82f"
      },
      "outputs": [
        {
          "name": "stdout",
          "output_type": "stream",
          "text": [
            "+-------+---+----------+------+\n",
            "|   Name|age|Experience|Salary|\n",
            "+-------+---+----------+------+\n",
            "|  Sunny| 29|         4| 20000|\n",
            "|   Paul| 24|         3| 20000|\n",
            "| Harsha| 21|         1| 15000|\n",
            "|Shubham| 23|         2| 18000|\n",
            "+-------+---+----------+------+\n",
            "\n"
          ]
        }
      ],
      "source": [
        "### salary of people less or equal to 20000\n",
        "df_pyspark.filter(df_pyspark.Salary <= 20000).show()"
      ]
    },
    {
      "cell_type": "code",
      "execution_count": 61,
      "metadata": {
        "colab": {
          "base_uri": "https://localhost:8080/"
        },
        "id": "PJkLrboTF_Cb",
        "outputId": "0001f949-008f-4ca8-e5ed-be37840818d6"
      },
      "outputs": [
        {
          "name": "stdout",
          "output_type": "stream",
          "text": [
            "+-------+---+\n",
            "|   Name|age|\n",
            "+-------+---+\n",
            "|  Sunny| 29|\n",
            "|   Paul| 24|\n",
            "| Harsha| 21|\n",
            "|Shubham| 23|\n",
            "+-------+---+\n",
            "\n"
          ]
        }
      ],
      "source": [
        "# only selected columns based on condition\n",
        "df_pyspark.filter(\"Salary <= 20000\").select(['Name', 'age']).show()"
      ]
    },
    {
      "cell_type": "code",
      "execution_count": 62,
      "metadata": {
        "colab": {
          "base_uri": "https://localhost:8080/"
        },
        "id": "zK5TvaoIGV1K",
        "outputId": "1185aad4-4dc0-405e-a04b-a9b7afc95248"
      },
      "outputs": [
        {
          "name": "stdout",
          "output_type": "stream",
          "text": [
            "+-------+---+----------+------+\n",
            "|   Name|age|Experience|Salary|\n",
            "+-------+---+----------+------+\n",
            "|  Sunny| 29|         4| 20000|\n",
            "|   Paul| 24|         3| 20000|\n",
            "| Harsha| 21|         1| 15000|\n",
            "|Shubham| 23|         2| 18000|\n",
            "+-------+---+----------+------+\n",
            "\n"
          ]
        }
      ],
      "source": [
        "df_pyspark.filter((df_pyspark.Salary <= 20000) & # i can checge to or using |\n",
        " (df_pyspark.Salary >= 15000)).show()"
      ]
    },
    {
      "cell_type": "code",
      "execution_count": 63,
      "metadata": {
        "colab": {
          "base_uri": "https://localhost:8080/"
        },
        "id": "H1yYevVyGVx6",
        "outputId": "c4fd9bc5-9005-427d-af20-2b1f8b630f12"
      },
      "outputs": [
        {
          "name": "stdout",
          "output_type": "stream",
          "text": [
            "+---------+---+----------+------+\n",
            "|     Name|age|Experience|Salary|\n",
            "+---------+---+----------+------+\n",
            "|    Krish| 31|        10| 30000|\n",
            "|Sudhanshu| 30|         8| 25000|\n",
            "+---------+---+----------+------+\n",
            "\n"
          ]
        }
      ],
      "source": [
        "# not operation inverse condition operation\n",
        "df_pyspark.filter(~(df_pyspark.Salary <= 20000)).show()\n",
        "# ~ is not condition so anything above 20K will be shown"
      ]
    },
    {
      "cell_type": "code",
      "execution_count": null,
      "metadata": {
        "id": "iZXHZIPKGVwS"
      },
      "outputs": [],
      "source": []
    },
    {
      "cell_type": "code",
      "execution_count": null,
      "metadata": {
        "id": "wRpiNc8bGVth"
      },
      "outputs": [],
      "source": []
    },
    {
      "cell_type": "code",
      "execution_count": null,
      "metadata": {
        "id": "t84tc3gnGVqz"
      },
      "outputs": [],
      "source": []
    },
    {
      "cell_type": "code",
      "execution_count": null,
      "metadata": {
        "id": "q_GHgY2TGVoB"
      },
      "outputs": [],
      "source": []
    },
    {
      "cell_type": "code",
      "execution_count": null,
      "metadata": {
        "id": "TubeCqCWGVlf"
      },
      "outputs": [],
      "source": []
    },
    {
      "cell_type": "code",
      "execution_count": null,
      "metadata": {
        "id": "JJ8sHvelGViv"
      },
      "outputs": [],
      "source": []
    },
    {
      "cell_type": "code",
      "execution_count": null,
      "metadata": {
        "id": "qfy9dlfFGVf8"
      },
      "outputs": [],
      "source": []
    }
  ],
  "metadata": {
    "colab": {
      "machine_shape": "hm",
      "provenance": []
    },
    "kernelspec": {
      "display_name": "Python 3",
      "name": "python3"
    },
    "language_info": {
      "name": "python"
    }
  },
  "nbformat": 4,
  "nbformat_minor": 0
}
